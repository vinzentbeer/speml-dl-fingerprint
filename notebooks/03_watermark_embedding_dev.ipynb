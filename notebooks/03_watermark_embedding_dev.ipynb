{
 "cells": [
  {
   "cell_type": "code",
   "execution_count": null,
   "id": "b608fb0f",
   "metadata": {},
   "outputs": [],
   "source": [
    "#change the current working directory to un dirctory up and then to the folder WatermarkNN\n",
    "\n",
    "import os\n",
    "import sys\n",
    "\n",
    "# Get the current working directory\n",
    "current_dir = os.getcwd()\n",
    "# Get the parent directory\n",
    "parent_dir = os.path.dirname(current_dir)\n",
    "# Change the current working directory to the parent directory\n",
    "os.chdir(parent_dir)\n",
    "# Change the current working directory to the 'WatermarkNN' folder\n",
    "watermark_nn_dir = os.path.join(parent_dir, 'WatermarkNN')"
   ]
  }
 ],
 "metadata": {
  "language_info": {
   "name": "python"
  }
 },
 "nbformat": 4,
 "nbformat_minor": 5
}
