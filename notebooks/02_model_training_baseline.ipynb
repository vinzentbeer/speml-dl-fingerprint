{
 "cells": [
  {
   "cell_type": "markdown",
   "id": "5781e206",
   "metadata": {},
   "source": [
    "# Setup squeezenet model for image classification\n",
    "\n",
    "torchvision.models.squeezenet1_1(pretrained=True)\n",
    "\n"
   ]
  },
  {
   "cell_type": "code",
   "execution_count": 7,
   "id": "c6a02957",
   "metadata": {},
   "outputs": [
    {
     "name": "stderr",
     "output_type": "stream",
     "text": [
      "Using cache found in C:\\Users\\stefa/.cache\\torch\\hub\\pytorch_vision_v0.10.0\n",
      "c:\\Users\\stefa\\.conda\\envs\\spemlGPU\\lib\\site-packages\\torchvision\\models\\_utils.py:208: UserWarning: The parameter 'pretrained' is deprecated since 0.13 and may be removed in the future, please use 'weights' instead.\n",
      "  warnings.warn(\n",
      "c:\\Users\\stefa\\.conda\\envs\\spemlGPU\\lib\\site-packages\\torchvision\\models\\_utils.py:223: UserWarning: Arguments other than a weight enum or `None` for 'weights' are deprecated since 0.13 and may be removed in the future. The current behavior is equivalent to passing `weights=SqueezeNet1_0_Weights.IMAGENET1K_V1`. You can also use `weights=SqueezeNet1_0_Weights.DEFAULT` to get the most up-to-date weights.\n",
      "  warnings.warn(msg)\n"
     ]
    }
   ],
   "source": [
    "import torch\n",
    "import torchvision.transforms as transforms\n",
    "from torchvision.datasets import MNIST,FashionMNIST\n",
    "from torch.utils.data import DataLoader, Dataset\n",
    "import copy\n",
    "from PIL import Image\n",
    "import os\n",
    "import random\n",
    "\n",
    "\n",
    "# Load the base model ONCE\n",
    "base_model = torch.hub.load('pytorch/vision:v0.10.0', 'squeezenet1_0', pretrained=True)\n",
    "\n",
    "\n",
    "modelMNIST = copy.deepcopy(base_model)\n",
    "modelFashionMNIST = copy.deepcopy(base_model)\n",
    "\n",
    "transform = transforms.Compose([\n",
    "    transforms.Resize((224, 224)),\n",
    "    transforms.Grayscale(num_output_channels=3),  # convert 1->3 channels\n",
    "    transforms.ToTensor(),\n",
    "    transforms.Normalize(mean=[0.485, 0.456, 0.406],  # ImageNet stats\n",
    "                         std=[0.229, 0.224, 0.225])\n",
    "])\n",
    "\n",
    "\n",
    "\n",
    "\n",
    "# Load original datasets\n",
    "dsMNIST = MNIST(root='./data/raw/MNIST', train=True, download=True, transform=transform)\n",
    "dsFashionMNIST = FashionMNIST(root='./data/raw/FashionMNIST', train=True, download=True, transform=transform)\n",
    "dstestMNIST = MNIST(root='./data/raw/MNIST', train=False, download=True, transform=transform)\n",
    "dstestFashionMNIST = FashionMNIST(root='./data/raw/FashionMNIST', train=False, download=True, transform=transform)\n",
    "\n",
    "bsize = 100\n",
    "\n",
    "basetestloaderMNIST = DataLoader(dstestMNIST, batch_size=bsize, shuffle=False)\n",
    "basetestloaderFashionMNIST = DataLoader(dstestFashionMNIST, batch_size=bsize, shuffle=False)\n",
    "\n",
    "basetrainloaderMNIST = DataLoader(dsMNIST, batch_size=bsize, shuffle=True)\n",
    "basetrainloaderFashionMNIST = DataLoader(dsFashionMNIST, batch_size=bsize, shuffle=True)"
   ]
  },
  {
   "cell_type": "markdown",
   "id": "b6a8eaef",
   "metadata": {},
   "source": [
    "Change the model to accomodate 10 classes"
   ]
  },
  {
   "cell_type": "code",
   "execution_count": null,
   "id": "0138608c-c262-4acb-bd28-a87f3afe0ae7",
   "metadata": {},
   "outputs": [],
   "source": [
    "\n",
    "\n"
   ]
  },
  {
   "cell_type": "code",
   "execution_count": 8,
   "id": "8a70ef9a",
   "metadata": {},
   "outputs": [
    {
     "name": "stderr",
     "output_type": "stream",
     "text": [
      "Using cache found in C:\\Users\\stefa/.cache\\torch\\hub\\pytorch_vision_v0.10.0\n",
      "Using cache found in C:\\Users\\stefa/.cache\\torch\\hub\\pytorch_vision_v0.10.0\n"
     ]
    }
   ],
   "source": [
    "# change output layer to match the number of classes for MNIST and FashionMNIST\n",
    "MNIST_Classes = 10\n",
    "FashionMNIST_Classes = 10\n",
    "\n",
    "def get_sq_model(num_classes):\n",
    "    model = torch.hub.load('pytorch/vision:v0.10.0', 'squeezenet1_0', pretrained=True)\n",
    "\n",
    "    import torch.nn as nn\n",
    "    model.classifier[1] = nn.Conv2d(512, num_classes, kernel_size=(1, 1), stride=(1, 1))\n",
    "    model.num_classes = num_classes\n",
    "    return model\n",
    "\n",
    "    \n",
    "    \n",
    "modelMNIST = get_sq_model(MNIST_Classes)\n",
    "modelFashionMNIST = get_sq_model(FashionMNIST_Classes)\n",
    "\n",
    "import torch.nn as nn\n",
    "import torch.optim as optim\n",
    "criterion = nn.CrossEntropyLoss()\n",
    "optimizerMNIST = optim.SGD(modelMNIST.parameters(), lr=0.001, momentum=0.9, weight_decay=1e-4)\n",
    "\n",
    "optimizerFashionMNIST = optim.SGD(modelFashionMNIST.parameters(), lr=0.001, momentum=0.9, weight_decay=1e-4)"
   ]
  },
  {
   "cell_type": "markdown",
   "id": "116e22d6",
   "metadata": {},
   "source": [
    "TRAINING TIME"
   ]
  },
  {
   "cell_type": "code",
   "execution_count": null,
   "id": "b285a164",
   "metadata": {},
   "outputs": [
    {
     "name": "stdout",
     "output_type": "stream",
     "text": [
      "Using device: cuda\n"
     ]
    },
    {
     "name": "stderr",
     "output_type": "stream",
     "text": [
      "Epoch 1/30:   8%|▊         | 51/600 [00:08<01:23,  6.60it/s, loss=0.0131]  "
     ]
    }
   ],
   "source": [
    "from tqdm import tqdm\n",
    "import torch\n",
    "def train_model(model, train_dataloader, test_dataloader, optimizer, criterion, num_epochs=5, device=None, patience=5):\n",
    "    if device is None:\n",
    "        device = torch.device('cuda' if torch.cuda.is_available() else 'cpu')\n",
    "        print(f\"Using device: {device}\")\n",
    "    model.to(device)\n",
    "    scheduler = torch.optim.lr_scheduler.StepLR(optimizer, step_size=10, gamma=0.5)\n",
    "\n",
    "    best_acc = 0.0\n",
    "    best_model_wts = copy.deepcopy(model.state_dict())\n",
    "    epochs_no_improve = 0\n",
    "\n",
    "    for epoch in range(num_epochs):\n",
    "        model.train()\n",
    "        running_loss = 0.0\n",
    "        correct = 0\n",
    "        total = 0\n",
    "\n",
    "        loop = tqdm(train_dataloader, desc=f\"Epoch {epoch+1}/{num_epochs}\", leave=False)\n",
    "        for inputs, labels in loop:\n",
    "            inputs, labels = inputs.to(device), labels.to(device)\n",
    "\n",
    "            optimizer.zero_grad()\n",
    "            outputs = model(inputs)\n",
    "            loss = criterion(outputs, labels)\n",
    "            loss.backward()\n",
    "            optimizer.step()\n",
    "\n",
    "            running_loss += loss.item()\n",
    "            _, predicted = torch.max(outputs, 1)\n",
    "            total += labels.size(0)\n",
    "            correct += (predicted == labels).sum().item()\n",
    "\n",
    "            loop.set_postfix(loss=loss.item())\n",
    "\n",
    "        epoch_loss = running_loss / len(train_dataloader)\n",
    "        accuracy = correct / total * 100\n",
    "        print(f\"Epoch {epoch+1}/{num_epochs} - Loss: {epoch_loss:.4f}, Accuracy: {accuracy:.2f}%\")\n",
    "\n",
    "        # Evaluate on test set\n",
    "        model.eval()\n",
    "        test_correct = 0\n",
    "        test_total = 0\n",
    "        with torch.no_grad():\n",
    "            for inputs, labels in test_dataloader:\n",
    "                inputs, labels = inputs.to(device), labels.to(device)\n",
    "                outputs = model(inputs)\n",
    "                _, predicted = torch.max(outputs, 1)\n",
    "                test_total += labels.size(0)\n",
    "                test_correct += (predicted == labels).sum().item()\n",
    "        test_acc = test_correct / test_total * 100\n",
    "        print(f\"Test Accuracy: {test_acc:.2f}%\")\n",
    "\n",
    "        # Early stopping and best model tracking\n",
    "        if test_acc > best_acc:\n",
    "            best_acc = test_acc\n",
    "            best_model_wts = copy.deepcopy(model.state_dict())\n",
    "            epochs_no_improve = 0\n",
    "        else:\n",
    "            epochs_no_improve += 1\n",
    "\n",
    "        if epochs_no_improve >= patience:\n",
    "            print(f\"Early stopping at epoch {epoch+1}\")\n",
    "            break\n",
    "\n",
    "        scheduler.step()\n",
    "\n",
    "    model.load_state_dict(best_model_wts)\n",
    "    print(f\"Best Test Accuracy: {best_acc:.2f}%\")\n",
    "    return model\n",
    "\n",
    "finedTunedModelMNIST = train_model(modelMNIST, basetrainloaderMNIST, basetestloaderMNIST, optimizerMNIST, criterion, num_epochs=30)\n",
    "finedTunedModelFashionMNIST = train_model(modelFashionMNIST, basetrainloaderFashionMNIST, basetestloaderFashionMNIST, optimizerFashionMNIST, criterion, num_epochs=30)\n"
   ]
  },
  {
   "cell_type": "markdown",
   "id": "afa266aa",
   "metadata": {},
   "source": [
    "Testing the model on the train sets."
   ]
  },
  {
   "cell_type": "code",
   "execution_count": null,
   "id": "58bf77c3",
   "metadata": {},
   "outputs": [],
   "source": [
    "#testing the models on test dataloaders\n",
    "\n",
    "def test_model(model, dataloader, criterion, device=None):\n",
    "    if device is None:\n",
    "        device = torch.device('cuda' if torch.cuda.is_available() else 'cpu')\n",
    "        print(f\"Using device: {device}\")\n",
    "    model.to(device)\n",
    "    model.eval()\n",
    "\n",
    "    running_loss = 0.0\n",
    "    correct = 0\n",
    "    total = 0\n",
    "\n",
    "    with torch.no_grad():\n",
    "        for inputs, labels in dataloader:\n",
    "            inputs, labels = inputs.to(device), labels.to(device)\n",
    "\n",
    "            outputs = model(inputs)\n",
    "            loss = criterion(outputs, labels)\n",
    "\n",
    "            running_loss += loss.item()\n",
    "            _, predicted = torch.max(outputs, 1)\n",
    "            total += labels.size(0)\n",
    "            correct += (predicted == labels).sum().item()\n",
    "\n",
    "    epoch_loss = running_loss / len(dataloader)\n",
    "    accuracy = correct / total * 100\n",
    "    print(f\"Test Loss: {epoch_loss:.4f}, Test Accuracy: {accuracy:.2f}%\")\n",
    "    \n",
    "    return epoch_loss, accuracy\n",
    "\n",
    "# Test the models\n",
    "test_loss_MNIST, test_accuracy_MNIST = test_model(finedTunedModelMNIST, testloaderMNIST, criterion)\n",
    "test_loss_FashionMNIST, test_accuracy_FashionMNIST = test_model(finedTunedModelFashionMNIST, testloaderFashionMNIST, criterion)"
   ]
  },
  {
   "cell_type": "markdown",
   "id": "0074ab64",
   "metadata": {},
   "source": [
    "Exporting the model weights to a file\n",
    "\n"
   ]
  },
  {
   "cell_type": "code",
   "execution_count": null,
   "id": "8b214d20",
   "metadata": {},
   "outputs": [],
   "source": [
    "# export the models to models call them DATASETTYPE_squeezenet1_0_finetuned_baseline.pth\n",
    "\n",
    "import os\n",
    "def save_model(model, dataset_type, filename='model.pth'):\n",
    "    os.makedirs('models', exist_ok=True)\n",
    "    model_path = os.path.join('models', f\"{dataset_type}_{filename}\")\n",
    "    torch.save(model, model_path)\n",
    "    print(f\"Model saved to {model_path}\")\n",
    "    \n",
    "save_model(finedTunedModelMNIST, 'mnist',\"baseline_NO_watermark\")\n",
    "save_model(finedTunedModelFashionMNIST, 'fmnist_NO_watermark')\n",
    "\n",
    "\n"
   ]
  }
 ],
 "metadata": {
  "kernelspec": {
   "display_name": "Python 3",
   "language": "python",
   "name": "python3"
  },
  "language_info": {
   "codemirror_mode": {
    "name": "ipython",
    "version": 3
   },
   "file_extension": ".py",
   "mimetype": "text/x-python",
   "name": "python",
   "nbconvert_exporter": "python",
   "pygments_lexer": "ipython3",
   "version": "3.9.23"
  }
 },
 "nbformat": 4,
 "nbformat_minor": 5
}
